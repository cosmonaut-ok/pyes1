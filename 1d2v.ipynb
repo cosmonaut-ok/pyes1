{
 "metadata": {
  "name": "",
  "signature": "sha256:ae428809b7e7a96d24507113941b0af50303e7a253a9e612bbc0b15b5c6705d2"
 },
 "nbformat": 3,
 "nbformat_minor": 0,
 "worksheets": [
  {
   "cells": [
    {
     "cell_type": "code",
     "collapsed": false,
     "input": [
      "%matplotlib inline"
     ],
     "language": "python",
     "metadata": {},
     "outputs": [],
     "prompt_number": 1
    },
    {
     "cell_type": "code",
     "collapsed": false,
     "input": [
      "import numpy as np\n",
      "import matplotlib.pyplot as plt\n",
      "from collections import namedtuple"
     ],
     "language": "python",
     "metadata": {},
     "outputs": [],
     "prompt_number": 2
    },
    {
     "cell_type": "markdown",
     "metadata": {},
     "source": [
      "### Thoughts on dimensions\n",
      "\n",
      "* Both $e^-$ and $p^+$ have the same $\\frac{q}{\\epsilon_0}$ ratio (with different signs), so choose $q=\\epsilon_0=1$ to make life easy.\n",
      "* The mass of $p^+$ is about $1.8 \\times 10^3$ times the mass of $e^-$\n",
      "    * Set the $\\frac{q}{m}$ ratio and $\\omega_c$ values accordingly\n",
      "* Choose $B_0$ as whatever makes the coolest graphs!"
     ]
    },
    {
     "cell_type": "code",
     "collapsed": false,
     "input": [
      "epi0 = 1.#8.85e-12 # Epsilon0\n",
      "Species = namedtuple(\"Species\", [\"q\", \"m\", \"N\", \"x0\", \"vx0\", \"vy0\"])\n",
      "\n",
      "def one_d_poisson(n, h):\n",
      "    a = np.zeros((n,n))\n",
      "    np.fill_diagonal(a, -2.)\n",
      "    np.fill_diagonal(a[:-1,1:], 1.)\n",
      "    np.fill_diagonal(a[1:,:-1], 1.)\n",
      "    a = a/h**2\n",
      "    return  a\n",
      "\n",
      "def poisson_solve(b, nx, dx, V0, VL):\n",
      "    A = one_d_poisson(nx-2, 1.)\n",
      "    p = -b*(dx**2)\n",
      "    p[1]  = p[1] - V0\n",
      "    p[-2] = p[-2] - VL\n",
      "    x = np.zeros_like(p)\n",
      "    x[0]  = V0; x[-1] = VL\n",
      "    x[1:-1] = np.linalg.solve(A, p[1:-1])\n",
      "    \n",
      "    return x\n",
      "\n",
      "def calc_E(xp, q, nx, dx, V0, VL):\n",
      "    \"\"\" Calc E at the particle positions\n",
      "    The three 'bottom' steps on page 11\n",
      "    \"\"\"\n",
      "    E   = np.zeros(nx)\n",
      "    rho = np.zeros(nx)\n",
      "    \n",
      "    # Weighting to grid (NGP)\n",
      "    xps = np.round(xp*(nx-1)).astype(np.int)\n",
      "    rho[xps] = q/epi0\n",
      "    \n",
      "    # Calc potential\n",
      "    phi = poisson_solve(rho, nx, dx, V0, VL)\n",
      "    # Calc E\n",
      "    E[1:-1] = (phi[2:]-phi[:-2])/(2*dx)\n",
      "    \n",
      "    # Weighting back to particles (NGP)\n",
      "    return E[xps]"
     ],
     "language": "python",
     "metadata": {},
     "outputs": [],
     "prompt_number": 3
    },
    {
     "cell_type": "code",
     "collapsed": false,
     "input": [
      "def accel(vx, vy, E, alpha, dt):\n",
      "    \"\"\" Accel in place\n",
      "    \"\"\"\n",
      "    vx[:] = vx + alpha*E*dt/2.\n",
      "    # vy is unchanged\n",
      "\n",
      "def rotate(vx, vy, wc, dt):\n",
      "    \"\"\" Rotate in place\n",
      "    \"\"\"\n",
      "    c = np.cos(wc*dt)\n",
      "    s = np.sin(wc*dt)\n",
      "    vx_new =  c*vx + s*vy\n",
      "    vy_new = -s*vx + c*vy\n",
      "\n",
      "    vx[:] = vx_new\n",
      "    vy[:] = vy_new\n",
      "\n",
      "def move(xp, vx, vy, dt, L, boundary=\"fixed\"):\n",
      "    \"\"\" Move in place\n",
      "    \"\"\"\n",
      "    xp[:] = xp + dt*vx\n",
      "    \n",
      "    if   boundary==\"fixed\":\n",
      "        xp[xp>L] = L\n",
      "        xp[xp<0] = 0\n",
      "    elif boundary==\"periodic\":\n",
      "        xp[xp>L] = xp[xp>L] - L\n",
      "        xp[xp<0] = xp[xp<0] + L"
     ],
     "language": "python",
     "metadata": {},
     "outputs": [],
     "prompt_number": 4
    },
    {
     "cell_type": "code",
     "collapsed": false,
     "input": [
      "Nt = 500\n",
      "nx = 100\n",
      "L  = 1.\n",
      "dx = L/(nx-1.)\n",
      "dt = 0.1\n",
      "B0 = .5\n",
      "\n",
      "boundary = \"fixed\"\n",
      "V0 = VL = 1.\n",
      "boundary = \"periodic\"\n",
      "V0 = VL = 0.\n",
      "\n",
      "N_e = 50\n",
      "N_i = 50\n",
      "electron = Species(-1., 1./4., N_e,\n",
      "                   np.linspace(dx, L-dx, N_e+N_i)[:N_e],\n",
      "                   np.zeros(N_e), np.zeros(N_e))\n",
      "ion      = Species(1.,  1./2., N_i,\n",
      "                   np.linspace(dx, L-dx, N_e+N_i)[N_e:],\n",
      "                   np.zeros(N_i), np.zeros(N_i))\n",
      "species = [electron, ion]\n",
      "colors  = ['b', 'r']"
     ],
     "language": "python",
     "metadata": {},
     "outputs": [],
     "prompt_number": 5
    },
    {
     "cell_type": "code",
     "collapsed": false,
     "input": [
      "N = 0\n",
      "for s in species: N += s.N\n",
      "\n",
      "q, qm, wc, xp, vx, vy = [np.zeros(N) for _ in range(6)]\n",
      "count = 0 # Trailing count\n",
      "for s in species:\n",
      "    q[count:count+s.N]  = s.q\n",
      "    qm[count:count+s.N] = s.q/s.m\n",
      "    wc[count:count+s.N] = (s.q/s.m)*B0\n",
      "    xp[count:count+s.N] = s.x0\n",
      "    vx[count:count+s.N] = s.vx0\n",
      "    vy[count:count+s.N] = s.vy0\n",
      "    count += s.N\n",
      "\n",
      "print np.unique(wc)*dt\n",
      "\n",
      "# Init half step back\n",
      "E = calc_E(xp, q, nx, dx, V0, VL)\n",
      "rotate(vx, vy, -wc, dt)\n",
      "accel(vx, vy, E, -qm, dt)\n",
      "\n",
      "for i in range(Nt):\n",
      "    \n",
      "    # Update velocity\n",
      "    accel(vx, vy, E, qm, dt)\n",
      "    rotate(vx, vy, wc, dt)\n",
      "    accel(vx, vy, E, qm, dt)\n",
      "    \n",
      "    # Update position\n",
      "    move(xp, vx, vy, dt, L, boundary=boundary)\n",
      "    \n",
      "    E = calc_E(xp, q, nx, dx, V0, VL)\n",
      "    \n",
      "    #if i%10:\n",
      "    #    plt.scatter(vx[:N_e], vy[:N_e], color=colors[0])\n",
      "    #    plt.scatter(vx[N_e:], vy[N_e:], color=colors[1])\n",
      "    "
     ],
     "language": "python",
     "metadata": {},
     "outputs": [
      {
       "output_type": "stream",
       "stream": "stdout",
       "text": [
        "[-0.2  0.1]\n"
       ]
      }
     ],
     "prompt_number": 6
    },
    {
     "cell_type": "code",
     "collapsed": false,
     "input": [
      "plt.scatter(vx[:N_e], vy[:N_e], color='b')\n",
      "plt.scatter(vx[N_e:], vy[N_e:], color='r')"
     ],
     "language": "python",
     "metadata": {},
     "outputs": [
      {
       "metadata": {},
       "output_type": "pyout",
       "prompt_number": 7,
       "text": [
        "<matplotlib.collections.PathCollection at 0x2a38750>"
       ]
      },
      {
       "metadata": {},
       "output_type": "display_data",
       "png": "[encoded data removed]",
       "text": [
        "<matplotlib.figure.Figure at 0x29b83d0>"
       ]
      }
     ],
     "prompt_number": 7
    },
    {
     "cell_type": "code",
     "collapsed": false,
     "input": [
      "plt.scatter(xp[:N_e], vx[:N_e], color='b')\n",
      "plt.scatter(xp[N_e:], vx[N_e:], color='r')"
     ],
     "language": "python",
     "metadata": {},
     "outputs": [
      {
       "metadata": {},
       "output_type": "pyout",
       "prompt_number": 8,
       "text": [
        "<matplotlib.collections.PathCollection at 0x2bc6150>"
       ]
      },
      {
       "metadata": {},
       "output_type": "display_data",
       "png": "[encoded data removed]",
       "text": [
        "<matplotlib.figure.Figure at 0x2a46450>"
       ]
      }
     ],
     "prompt_number": 8
    },
    {
     "cell_type": "code",
     "collapsed": false,
     "input": [],
     "language": "python",
     "metadata": {},
     "outputs": [],
     "prompt_number": 8
    }
   ],
   "metadata": {}
  }
 ]
}