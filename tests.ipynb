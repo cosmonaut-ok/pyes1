{
 "metadata": {
  "name": "",
  "signature": "sha256:3202f6cde2cadbacfe0442417da465e1bf8e57c3557b4a1519275c3d485d635d"
 },
 "nbformat": 3,
 "nbformat_minor": 0,
 "worksheets": [
  {
   "cells": [
    {
     "cell_type": "code",
     "collapsed": false,
     "input": [
      "%matplotlib inline\n",
      "%load_ext autoreload\n",
      "%autoreload 2"
     ],
     "language": "python",
     "metadata": {},
     "outputs": [],
     "prompt_number": 1
    },
    {
     "cell_type": "code",
     "collapsed": false,
     "input": [
      "import numpy as np\n",
      "import matplotlib.pyplot as plt\n",
      "from pic1d2v import *"
     ],
     "language": "python",
     "metadata": {},
     "outputs": [],
     "prompt_number": 2
    },
    {
     "cell_type": "markdown",
     "metadata": {},
     "source": [
      "### Check solver"
     ]
    },
    {
     "cell_type": "code",
     "collapsed": false,
     "input": [
      "def poisson_solve_fft(rho, dx):\n",
      "    nx   = len(rho)\n",
      "    rhok = np.fft.fft(rho)\n",
      "    k    = np.fft.fftfreq(nx)*2*np.pi/dx\n",
      "    kdx2 = k[1:]*dx/2\n",
      "    K2 = k[1:]**2*(np.sin(kdx2)/kdx2)**2\n",
      "    #K2 = k[1:]**2\n",
      "    phik     = np.zeros_like(rhok)\n",
      "    phik[1:] = rhok[1:]/(K2)\n",
      "    sol      = np.real(np.fft.ifft(phik))\n",
      "    \n",
      "    return sol"
     ],
     "language": "python",
     "metadata": {},
     "outputs": [],
     "prompt_number": 3
    },
    {
     "cell_type": "code",
     "collapsed": false,
     "input": [
      "nx = 2**10\n",
      "L  = 1.\n",
      "dx = L/nx\n",
      "k1  = 2*np.pi/L\n",
      "k2  = 2*np.pi/L\n",
      "k12 = k1**2\n",
      "k22 = k2**2\n",
      "a = (1/k12 - np.cos(k1*L)/k12 - np.sin(k2*L)/k22)/L\n",
      "\n",
      "def get_u(nx):\n",
      "    dx = L/nx\n",
      "    x_vals = np.linspace(0, L, nx+1)[:-1]\n",
      "    return np.cos(k1*x_vals) + np.sin(k2*x_vals)\n",
      "\n",
      "def get_phi(nx):\n",
      "    dx = L/nx\n",
      "    x_vals = np.linspace(0, L, nx+1)[:-1]\n",
      "    return np.cos(k1*x_vals)/k12 + np.sin(k2*x_vals)/k22 + a*x_vals\n",
      "\n",
      "u = get_u(nx)\n",
      "exact = get_phi(nx)\n",
      "exactk = np.fft.fft(exact)\n",
      "exactk[0] = 0.\n",
      "exact = np.real(np.fft.ifft(exactk))\n",
      "phi = poisson_solve_fft(u, dx)\n",
      "plt.plot(phi)\n",
      "plt.plot(exact)\n",
      "print np.linalg.norm(exact-phi)\n",
      "print np.log10(np.linalg.norm(exact-phi))"
     ],
     "language": "python",
     "metadata": {},
     "outputs": [
      {
       "output_type": "stream",
       "stream": "stdout",
       "text": [
        "2.54313629787e-06\n",
        "-5.59463036345\n"
       ]
      },
      {
       "metadata": {},
       "output_type": "display_data",
       "png": "[encoded data removed]",
       "text": [
        "<matplotlib.figure.Figure at 0x7f135dc69e10>"
       ]
      }
     ],
     "prompt_number": 4
    },
    {
     "cell_type": "code",
     "collapsed": false,
     "input": [
      "errors = []\n",
      "k_vals = range(3, 12)\n",
      "for k in k_vals:\n",
      "    nx = 2**k\n",
      "    u     = get_u(nx)\n",
      "    exact = get_phi(nx)\n",
      "    exactk = np.fft.fft(exact)\n",
      "    exactk[0] = 0.\n",
      "    exact = np.real(np.fft.ifft(exactk))\n",
      "    phi   = poisson_solve_fft(u, L/nx)\n",
      "    errors.append(np.linalg.norm(exact-phi))\n",
      "    \n",
      "plt.plot(k_vals, np.log10(errors))"
     ],
     "language": "python",
     "metadata": {},
     "outputs": [
      {
       "metadata": {},
       "output_type": "pyout",
       "prompt_number": 5,
       "text": [
        "[<matplotlib.lines.Line2D at 0x7f135baf6690>]"
       ]
      },
      {
       "metadata": {},
       "output_type": "display_data",
       "png": "[encoded data removed]",
       "text": [
        "<matplotlib.figure.Figure at 0x7f135bb66850>"
       ]
      }
     ],
     "prompt_number": 5
    },
    {
     "cell_type": "code",
     "collapsed": false,
     "input": [
      "np.log10(errors)"
     ],
     "language": "python",
     "metadata": {},
     "outputs": [
      {
       "metadata": {},
       "output_type": "pyout",
       "prompt_number": 6,
       "text": [
        "array([-2.42029895, -2.88200494, -3.33606857, -3.78824188, -4.23994388,\n",
        "       -4.69152811, -5.14308292, -5.59463036, -6.04617597])"
       ]
      }
     ],
     "prompt_number": 6
    },
    {
     "cell_type": "code",
     "collapsed": false,
     "input": [
      "e = np.log2(errors)\n",
      "e[-2]-e[-3]"
     ],
     "language": "python",
     "metadata": {},
     "outputs": [
      {
       "metadata": {},
       "output_type": "pyout",
       "prompt_number": 7,
       "text": [
        "-1.5000081475371552"
       ]
      }
     ],
     "prompt_number": 7
    },
    {
     "cell_type": "markdown",
     "metadata": {},
     "source": [
      "### Calc E Check"
     ]
    },
    {
     "cell_type": "code",
     "collapsed": false,
     "input": [
      "def calc_E(phi, dx):\n",
      "    \"\"\" Calc E at the particle positions\n",
      "    Centered difference (second order)\n",
      "    \"\"\"\n",
      "    E       = np.zeros_like(phi)\n",
      "    E[1:-1] = -(phi[2:]-phi[:-2])\n",
      "    E[0]    = -(phi[1]-phi[-1])\n",
      "    E[-1]   = -(phi[0]-phi[-2])\n",
      "    \n",
      "    return E/(2*dx)"
     ],
     "language": "python",
     "metadata": {},
     "outputs": [],
     "prompt_number": 8
    },
    {
     "cell_type": "code",
     "collapsed": false,
     "input": [
      "N = 100\n",
      "#x_vals = np.linspace(0, 2*np.pi, N+1)[:-1]\n",
      "k1 = 2*np.pi\n",
      "get_x     = lambda N: np.linspace(0, 1, N+1)[:-1]\n",
      "get_u     = lambda x_vals: np.sin(k1*x_vals)\n",
      "get_exact = lambda x_vals: -k1*np.cos(k1*x_vals)\n",
      "x_vals = get_x(N)\n",
      "dx     = x_vals[1] - x_vals[0]\n",
      "u      = get_u(x_vals)\n",
      "exact  = get_exact(x_vals)\n",
      "E      = calc_E(u, dx)\n",
      "\n",
      "plt.plot(x_vals, u)\n",
      "plt.plot(x_vals, E)\n",
      "plt.plot(x_vals, exact)\n",
      "print np.linalg.norm(E - exact)"
     ],
     "language": "python",
     "metadata": {},
     "outputs": [
      {
       "output_type": "stream",
       "stream": "stdout",
       "text": [
        "0.0292272281798\n"
       ]
      },
      {
       "metadata": {},
       "output_type": "display_data",
       "png": "[encoded data removed]",
       "text": [
        "<matplotlib.figure.Figure at 0x7f135bb23bd0>"
       ]
      }
     ],
     "prompt_number": 9
    },
    {
     "cell_type": "code",
     "collapsed": false,
     "input": [
      "k_vals = range(3,10)\n",
      "errors = []\n",
      "for k in k_vals:\n",
      "    N = 2**k\n",
      "    x_vals = get_x(N)\n",
      "    dx     = x_vals[1] - x_vals[0]\n",
      "    u      = get_u(x_vals)\n",
      "    exact  = get_exact(x_vals)\n",
      "    E      = calc_E(u, dx)\n",
      "    errors.append(np.linalg.norm(E - exact))\n",
      "\n",
      "l2err = np.log2(errors)\n",
      "#plt.plot(k_vals, l2err)\n",
      "print l2err[1:]-l2err[:-1]"
     ],
     "language": "python",
     "metadata": {},
     "outputs": [
      {
       "output_type": "stream",
       "stream": "stdout",
       "text": [
        "[-1.46659756 -1.49165503 -1.49791411 -1.49947855 -1.49986964 -1.49996741]\n"
       ]
      }
     ],
     "prompt_number": 10
    },
    {
     "cell_type": "code",
     "collapsed": false,
     "input": [],
     "language": "python",
     "metadata": {},
     "outputs": [],
     "prompt_number": 10
    }
   ],
   "metadata": {}
  }
 ]
}