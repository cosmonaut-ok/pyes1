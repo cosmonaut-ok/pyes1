{
 "metadata": {
  "name": "",
  "signature": "sha256:19a1d4f5bbacea38d866f648a1ebc9ad301310826583d6e67013f6b12a98acea"
 },
 "nbformat": 3,
 "nbformat_minor": 0,
 "worksheets": [
  {
   "cells": [
    {
     "cell_type": "code",
     "collapsed": false,
     "input": [
      "%matplotlib inline\n",
      "%load_ext autoreload\n",
      "%autoreload 2"
     ],
     "language": "python",
     "metadata": {},
     "outputs": [],
     "prompt_number": 1
    },
    {
     "cell_type": "code",
     "collapsed": false,
     "input": [
      "import numpy as np\n",
      "import matplotlib.pyplot as plt\n",
      "import unittest\n",
      "from pic1d2v import *\n",
      "norm = lambda x: np.max(np.abs(x))"
     ],
     "language": "python",
     "metadata": {},
     "outputs": [],
     "prompt_number": 2
    },
    {
     "cell_type": "markdown",
     "metadata": {},
     "source": [
      "### Check solver"
     ]
    },
    {
     "cell_type": "code",
     "collapsed": false,
     "input": [
      "nx = 2**6\n",
      "L  = 1.\n",
      "dx = L/nx\n",
      "k1  = 4*np.pi/L\n",
      "k2  = 2*np.pi/L\n",
      "k12 = k1**2\n",
      "k22 = k2**2\n",
      "a = (1/k12 - np.cos(k1*L)/k12 - np.sin(k2*L)/k22)/L\n",
      "\n",
      "def get_u(nx):\n",
      "    dx = L/nx\n",
      "    x_vals = np.linspace(0, L, nx+1)[:-1]\n",
      "    return np.cos(k1*x_vals) + np.sin(k2*x_vals)\n",
      "\n",
      "def get_phi(nx):\n",
      "    dx = L/nx\n",
      "    x_vals = np.linspace(0, L, nx+1)[:-1]\n",
      "    return np.cos(k1*x_vals)/k12 + np.sin(k2*x_vals)/k22 + a*x_vals\n",
      "\n",
      "u = get_u(nx)\n",
      "exact = get_phi(nx)\n",
      "exactk = np.fft.fft(exact)\n",
      "exactk[0] = 0.\n",
      "exact = np.real(np.fft.ifft(exactk))\n",
      "phi = poisson_solve_fft(u, dx)\n",
      "plt.plot(phi)\n",
      "plt.plot(exact)\n",
      "print norm(exact-phi)\n",
      "print np.log10(norm(exact-phi))"
     ],
     "language": "python",
     "metadata": {},
     "outputs": [
      {
       "output_type": "stream",
       "stream": "stdout",
       "text": [
        "4.07391908541e-05\n",
        "-4.38998760104\n"
       ]
      },
      {
       "metadata": {},
       "output_type": "display_data",
       "png": "[encoded data removed]",
       "text": [
        "<matplotlib.figure.Figure at 0x7fc245f34d50>"
       ]
      }
     ],
     "prompt_number": 3
    },
    {
     "cell_type": "code",
     "collapsed": false,
     "input": [
      "errors = []\n",
      "k_vals = range(3, 12)\n",
      "for k in k_vals:\n",
      "    nx = 2**k\n",
      "    u     = get_u(nx)\n",
      "    exact = get_phi(nx)\n",
      "    exactk = np.fft.fft(exact)\n",
      "    exactk[0] = 0.\n",
      "    exact = np.real(np.fft.ifft(exactk))\n",
      "    phi   = poisson_solve_fft(u, L/nx)\n",
      "    errors.append(norm(exact-phi))\n",
      "    \n",
      "plt.plot(k_vals, np.log2(errors))"
     ],
     "language": "python",
     "metadata": {},
     "outputs": [
      {
       "metadata": {},
       "output_type": "pyout",
       "prompt_number": 4,
       "text": [
        "[<matplotlib.lines.Line2D at 0x7fc243db77d0>]"
       ]
      },
      {
       "metadata": {},
       "output_type": "display_data",
       "png": "[encoded data removed]",
       "text": [
        "<matplotlib.figure.Figure at 0x7fc245f34310>"
       ]
      }
     ],
     "prompt_number": 4
    },
    {
     "cell_type": "code",
     "collapsed": false,
     "input": [
      "e = np.log2(errors)\n",
      "e[-1]-e[-2]"
     ],
     "language": "python",
     "metadata": {},
     "outputs": [
      {
       "metadata": {},
       "output_type": "pyout",
       "prompt_number": 5,
       "text": [
        "-2.0000012200180706"
       ]
      }
     ],
     "prompt_number": 5
    },
    {
     "cell_type": "code",
     "collapsed": false,
     "input": [],
     "language": "python",
     "metadata": {},
     "outputs": [],
     "prompt_number": 5
    }
   ],
   "metadata": {}
  }
 ]
}