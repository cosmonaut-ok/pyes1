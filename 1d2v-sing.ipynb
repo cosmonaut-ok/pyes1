{
 "metadata": {
  "name": "",
  "signature": "sha256:d3bf0e4c55ed0846721713d678b33ae8319fc5bf2873109e812f7d1595178732"
 },
 "nbformat": 3,
 "nbformat_minor": 0,
 "worksheets": [
  {
   "cells": [
    {
     "cell_type": "code",
     "collapsed": false,
     "input": [
      "%matplotlib inline\n",
      "%load_ext autoreload\n",
      "%autoreload 2"
     ],
     "language": "python",
     "metadata": {},
     "outputs": [],
     "prompt_number": 1
    },
    {
     "cell_type": "code",
     "collapsed": false,
     "input": [
      "import numpy as np\n",
      "from pic1d2v import *\n",
      "import matplotlib.pyplot as plt\n",
      "from matplotlib import animation\n",
      "from collections import namedtuple"
     ],
     "language": "python",
     "metadata": {},
     "outputs": [],
     "prompt_number": 2
    },
    {
     "cell_type": "code",
     "collapsed": false,
     "input": [
      "nt = 500\n",
      "nx = 512\n",
      "L  = np.pi\n",
      "dx = L/nx\n",
      "dt = 0.5\n",
      "B0 = 0\n",
      "\n",
      "N_e = 1\n",
      "N_i  = N_e\n",
      "\n",
      "init_pos = L/2.+1.\n",
      "\n",
      "electron = Species(-1., 1., N_e,\n",
      "                   np.array((init_pos,)),\n",
      "                   np.zeros(N_e), np.zeros(N_e))\n",
      "ion      = Species(1., -1., N_i,\n",
      "                   np.array((L/2.,)),\n",
      "                   np.zeros(N_i), np.zeros(N_i))\n",
      "\n",
      "species = [electron, ion]\n",
      "colors  = ['b']\n",
      "\n",
      "xp, vx, vy, E, phi = pic(species, nx, dx, nt, dt, L, B0, \n",
      "                         solver_method=\"FFT\",\n",
      "                         weight_method=\"CIC\",\n",
      "                         interp_method=\"CIC\")\n",
      "\n",
      "\n",
      "wp = np.sqrt(N_e/L**3)\n",
      "wp"
     ],
     "language": "python",
     "metadata": {},
     "outputs": [
      {
       "metadata": {},
       "output_type": "pyout",
       "prompt_number": 3,
       "text": [
        "0.17958712212516659"
       ]
      }
     ],
     "prompt_number": 3
    },
    {
     "cell_type": "code",
     "collapsed": false,
     "input": [
      "fig = plt.figure()\n",
      "p1 = fig.add_subplot(1, 1, 1)\n",
      "p1.set_xlabel('x'); p1.set_ylabel('$v_x$')\n",
      "imgs = []   \n",
      "s = 1\n",
      "x_vals = np.linspace(0,L,nx+1)[:-1]\n",
      "for i in range(nt+1):\n",
      "    imgs.append((p1.scatter(xp[i,:N_e], vx[i,:N_e], color=colors[0], s=s),\n",
      "                 p1.plot(x_vals, phi[i], color='g')[0],\n",
      "                ))\n",
      "\n",
      "\n",
      "im_ani = animation.ArtistAnimation(fig, imgs, \n",
      "                                   interval=50, repeat_delay=3000,\n",
      "                                   blit=True)\n",
      "im_ani.save(\"1d2v-sing.mp4\", writer=\"mencoder\")"
     ],
     "language": "python",
     "metadata": {},
     "outputs": [
      {
       "metadata": {},
       "output_type": "display_data",
       "png": "[encoded data removed]",
       "text": [
        "<matplotlib.figure.Figure at 0x7f2d316cb510>"
       ]
      }
     ],
     "prompt_number": 4
    },
    {
     "cell_type": "code",
     "collapsed": false,
     "input": [],
     "language": "python",
     "metadata": {},
     "outputs": [],
     "prompt_number": 4
    }
   ],
   "metadata": {}
  }
 ]
}