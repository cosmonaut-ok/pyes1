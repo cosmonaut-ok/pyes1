{
 "cells": [
  {
   "cell_type": "code",
   "execution_count": null,
   "metadata": {
    "collapsed": true
   },
   "outputs": [],
   "source": [
    "%matplotlib inline"
   ]
  },
  {
   "cell_type": "code",
   "execution_count": null,
   "metadata": {
    "collapsed": true
   },
   "outputs": [],
   "source": [
    "import numpy as np\n",
    "import pyopencl as cl\n",
    "import pyopencl.array\n",
    "from scipy.stats import maxwell, norm\n",
    "import matplotlib.pyplot as plt"
   ]
  },
  {
   "cell_type": "code",
   "execution_count": null,
   "metadata": {
    "collapsed": false
   },
   "outputs": [],
   "source": [
    "import sys\n",
    "sys.path.append(\"/home/user/dev/pyes1/\")\n",
    "from pyes1.pic1d2v import poisson_solve"
   ]
  },
  {
   "cell_type": "code",
   "execution_count": null,
   "metadata": {
    "collapsed": true
   },
   "outputs": [],
   "source": [
    "ctx = cl.create_some_context()\n",
    "queue = cl.CommandQueue(ctx)"
   ]
  },
  {
   "cell_type": "code",
   "execution_count": null,
   "metadata": {
    "collapsed": false
   },
   "outputs": [],
   "source": [
    "with open(\"pic.cl\") as f:\n",
    "    code = f.read()\n",
    "\n",
    "prg = cl.Program(ctx, code).build()\n",
    "\n",
    "normalize = prg.normalize_particles\n",
    "normalize.set_scalar_arg_dtypes([None, np.int32, np.double])\n",
    "\n",
    "weight = prg.weight_CIC\n",
    "weight.set_scalar_arg_dtypes([None, np.int32, np.double, None, None, np.int32])\n",
    "\n",
    "calc_E = prg.calc_E\n",
    "calc_E.set_scalar_arg_dtypes([None, np.int32, np.double, None])\n",
    "\n",
    "move = prg.move\n",
    "move.set_scalar_arg_dtypes([None, None, np.double, np.int32])\n",
    "\n",
    "\n",
    "accel = prg.accel\n",
    "accel.set_scalar_arg_dtypes([None, None, None, np.double, np.int32])\n",
    "\n",
    "interp = prg.interp_CIC\n",
    "interp.set_scalar_arg_dtypes([None, np.int32, np.double,\n",
    "                             None, None, np.int32])"
   ]
  },
  {
   "cell_type": "code",
   "execution_count": null,
   "metadata": {
    "collapsed": false
   },
   "outputs": [],
   "source": [
    "nt = 400\n",
    "nx = 512\n",
    "L  = 2*np.pi*2\n",
    "dx = L/nx\n",
    "dt = 0.1\n",
    "\n",
    "Ne = nx*1000\n",
    "N = Ne+Ne\n",
    "\n",
    "n0e  = np.linspace(0., L, Ne+1)[:-1]\n",
    "np.random.seed(12345+2)\n",
    "\n",
    "# vx1 =  maxwell.rvs(size=Ne)\n",
    "# vx2 = -maxwell.rvs(size=Ne)\n",
    "\n",
    "vx1 = norm.rvs(size=Ne, scale=1.0/np.sqrt(2))+2.0\n",
    "vx2 = norm.rvs(size=Ne, scale=1.0/np.sqrt(2))-2.0\n",
    "\n",
    "k = 1.0*2*np.pi/L\n",
    "x01 = n0e-0.1*np.sin(k*n0e)\n",
    "x02 = n0e-0.1*np.sin(k*n0e)\n",
    "\n",
    "xp = np.zeros(N)\n",
    "xp[:len(x01)] = x01\n",
    "xp[len(x01):] = x02\n",
    "\n",
    "vp = np.zeros(len(vx1)+len(vx2))\n",
    "vp[:len(vx1)] = vx1\n",
    "vp[len(vx2):] = vx2\n",
    "\n",
    "wp  = 1.0\n",
    "qom = 1.0\n",
    "\n",
    "n0 = (Ne+Ne)/L\n",
    "q  = wp*wp/(n0*qom)\n"
   ]
  },
  {
   "cell_type": "code",
   "execution_count": null,
   "metadata": {
    "collapsed": false
   },
   "outputs": [],
   "source": [
    "mf = cl.mem_flags\n",
    "\n",
    "xp_d = cl.array.Array(queue, N, np.double)\n",
    "normalize(queue, (4,), None, xp_d.data, N, L)\n",
    "vp_d = cl.array.Array(queue, N, np.double)\n",
    "Ep_d = cl.array.Array(queue, N, np.double)\n",
    "q_d  = cl.array.Array(queue, N, np.double)\n",
    "\n",
    "xp_d.set(xp)\n",
    "vp_d.set(vp)\n",
    "q_d[:] = q\n",
    "\n",
    "rho_d = cl.array.Array(queue, nx, np.double)\n",
    "phi_d = cl.array.Array(queue, nx, np.double)\n",
    "E_d   = cl.array.Array(queue, nx, np.double)"
   ]
  },
  {
   "cell_type": "code",
   "execution_count": null,
   "metadata": {
    "collapsed": false
   },
   "outputs": [],
   "source": [
    "for i in range(nt):\n",
    "    \n",
    "    rho_d[:] = 0.0\n",
    "    weight(queue, (1,), None, rho_d.data, nx, dx, xp_d.data, q_d.data, N)\n",
    "    \n",
    "    rho = rho_d.get(queue)/dx\n",
    "    phi = poisson_solve(rho, dx)\n",
    "    phi_d.set(np.ascontiguousarray(phi))\n",
    "\n",
    "    calc_E(queue, (4,), None, phi_d.data, nx, dx, E_d.data)\n",
    "\n",
    "    interp(queue, (4,), None, E_d.data, nx, dx, xp_d.data,\n",
    "          Ep_d.data, N)\n",
    "\n",
    "    accel(queue, (4,), None, Ep_d.data, q_d.data, vp_d.data, \n",
    "         dt, N)\n",
    "    move(queue, (4,), None, xp_d.data, vp_d.data, dt, N)\n",
    "\n",
    "    normalize(queue, (4,), None, xp_d.data, N, L)"
   ]
  },
  {
   "cell_type": "code",
   "execution_count": null,
   "metadata": {
    "collapsed": true
   },
   "outputs": [],
   "source": [
    "queue.finish()"
   ]
  },
  {
   "cell_type": "code",
   "execution_count": null,
   "metadata": {
    "collapsed": false
   },
   "outputs": [],
   "source": [
    "x = xp_d.get()\n",
    "v = vp_d.get()\n",
    "\n",
    "k = 50\n",
    "s = 1\n",
    "plt.scatter(x[:Ne:k], v[:Ne:k], color='r', s=s)\n",
    "plt.scatter(x[Ne::k], v[Ne::k], color='b', s=s)"
   ]
  },
  {
   "cell_type": "code",
   "execution_count": null,
   "metadata": {
    "collapsed": true
   },
   "outputs": [],
   "source": []
  }
 ],
 "metadata": {
  "kernelspec": {
   "display_name": "Python 2",
   "language": "python",
   "name": "python2"
  },
  "language_info": {
   "codemirror_mode": {
    "name": "ipython",
    "version": 2
   },
   "file_extension": ".py",
   "mimetype": "text/x-python",
   "name": "python",
   "nbconvert_exporter": "python",
   "pygments_lexer": "ipython2",
   "version": "2.7.12"
  }
 },
 "nbformat": 4,
 "nbformat_minor": 0
}
