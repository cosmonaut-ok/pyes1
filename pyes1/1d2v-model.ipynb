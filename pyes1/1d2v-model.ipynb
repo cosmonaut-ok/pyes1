{
 "metadata": {
  "name": "",
  "signature": "sha256:ceb6b472fd0bf33fa55c560215dc26111144da5eb798e98d3f56eb6b6ff232a4"
 },
 "nbformat": 3,
 "nbformat_minor": 0,
 "worksheets": [
  {
   "cells": [
    {
     "cell_type": "code",
     "collapsed": false,
     "input": [
      "%matplotlib inline\n",
      "%load_ext autoreload\n",
      "%autoreload 2"
     ],
     "language": "python",
     "metadata": {},
     "outputs": [],
     "prompt_number": 1
    },
    {
     "cell_type": "code",
     "collapsed": false,
     "input": [
      "import numpy as np\n",
      "from pic1d2v import *\n",
      "import matplotlib.pyplot as plt\n",
      "from matplotlib import animation\n",
      "from collections import namedtuple"
     ],
     "language": "python",
     "metadata": {},
     "outputs": [],
     "prompt_number": 2
    },
    {
     "cell_type": "markdown",
     "metadata": {},
     "source": [
      "### Verify that the model is composed of infinite sheets of charge\n",
      "\n",
      "I am doing this by taking a look at the potential and corresponding electric fields. For the FD solver, where $\\phi_0=\\phi_L=0$ we expect to see that $\\phi$ is linear on each side of the point particle. For the FFT solver we expect the potential to be linear close to the point particle. Interactions with periodic neighboors will cause a curve."
     ]
    },
    {
     "cell_type": "code",
     "collapsed": false,
     "input": [
      "fac = 1\n",
      "nx = int(512*fac)\n",
      "L  = 2*np.pi*fac\n",
      "dx = L/nx\n",
      "x_vals = np.linspace(0, L, nx+1)[:-1]\n",
      "e_loc = L*1/4\n",
      "i_loc = L*3/4\n",
      "electron = Species(-1., 1., 1,\n",
      "                   np.array((e_loc,)),\n",
      "                   np.zeros(1), np.zeros(1))\n",
      "ion      = Species( 1., 1., 1,\n",
      "                   np.array((i_loc,)),\n",
      "                   np.zeros(1), np.zeros(1))\n"
     ],
     "language": "python",
     "metadata": {},
     "outputs": [],
     "prompt_number": 3
    },
    {
     "cell_type": "code",
     "collapsed": false,
     "input": [
      "q_vals = np.zeros(2)\n",
      "q_vals[0] = electron.q\n",
      "q_vals[1] = ion.q\n",
      "x = np.array((electron.x0, ion.x0))\n",
      "wx = weight(x, q_vals, nx, L, method=\"CIC\")\n",
      "\n",
      "phi_fft = poisson_solve_fft(wx, dx)\n",
      "phi_fd  = poisson_solve_fd(wx, dx) \n",
      "plt.subplot(1,2,1)\n",
      "plt.plot(phi_fft); plt.plot(phi_fd);\n",
      "plt.subplot(1,2,2)\n",
      "plt.plot(calc_E(phi_fft, dx)); plt.plot(calc_E(phi_fd, dx));"
     ],
     "language": "python",
     "metadata": {},
     "outputs": [
      {
       "metadata": {},
       "output_type": "display_data",
       "png": "[encoded data removed]",
       "text": [
        "<matplotlib.figure.Figure at 0x7f427c337b90>"
       ]
      }
     ],
     "prompt_number": 4
    },
    {
     "cell_type": "code",
     "collapsed": false,
     "input": [
      "plt.plot(wx)"
     ],
     "language": "python",
     "metadata": {},
     "outputs": [
      {
       "metadata": {},
       "output_type": "pyout",
       "prompt_number": 5,
       "text": [
        "[<matplotlib.lines.Line2D at 0x7f426c9884d0>]"
       ]
      },
      {
       "metadata": {},
       "output_type": "display_data",
       "png": "[encoded data removed]",
       "text": [
        "<matplotlib.figure.Figure at 0x7f424eae4fd0>"
       ]
      }
     ],
     "prompt_number": 5
    },
    {
     "cell_type": "code",
     "collapsed": false,
     "input": [],
     "language": "python",
     "metadata": {},
     "outputs": [],
     "prompt_number": 5
    }
   ],
   "metadata": {}
  }
 ]
}