{
 "metadata": {
  "name": "",
  "signature": "sha256:b1a0752c2aa95d14db32048625e48603d520c5ecc183b241310dbf21e5474aea"
 },
 "nbformat": 3,
 "nbformat_minor": 0,
 "worksheets": [
  {
   "cells": [
    {
     "cell_type": "code",
     "collapsed": false,
     "input": [
      "%matplotlib inline"
     ],
     "language": "python",
     "metadata": {},
     "outputs": [],
     "prompt_number": 1
    },
    {
     "cell_type": "code",
     "collapsed": false,
     "input": [
      "import numpy as np\n",
      "import matplotlib.pyplot as plt\n",
      "from numba import jit, autojit"
     ],
     "language": "python",
     "metadata": {},
     "outputs": [],
     "prompt_number": 2
    },
    {
     "cell_type": "code",
     "collapsed": false,
     "input": [
      "def weight_cic(xp, q, nx, L):\n",
      "    \"\"\" Weighting to grid (CIC)\n",
      "    \"\"\"\n",
      "    rho = np.zeros(nx)\n",
      "    # Scale from [0,L] to [0,nx]\n",
      "    xps   = xp*nx/L\n",
      "    left  = np.floor(xps).astype(np.int)\n",
      "    right = np.mod(np.ceil(xps), nx).astype(np.int)\n",
      "    for i in xrange(len(xps)):\n",
      "        rho[left[i]]  += q[i]*(left[i]+1-xps[i])\n",
      "        rho[right[i]] += q[i]*(xps[i]-left[i])\n",
      "        \n",
      "    return rho\n",
      "\n",
      "@jit\n",
      "def weight_cic_numba1(xp, q, nx, L):\n",
      "    \"\"\" Weighting to grid (CIC)\n",
      "    \"\"\"\n",
      "    rho = np.zeros(nx)\n",
      "    # Scale from [0,L] to [0,nx]\n",
      "    xps   = xp*nx/L\n",
      "    left  = np.floor(xps).astype(np.int)\n",
      "    right = np.mod(np.ceil(xps), nx).astype(np.int)\n",
      "    for i in xrange(len(xps)):\n",
      "        rho[left[i]]  += q[i]*(left[i]+1-xps[i])\n",
      "        rho[right[i]] += q[i]*(xps[i]-left[i])\n",
      "        \n",
      "    return rho\n",
      "\n",
      "@autojit\n",
      "def weight_cic_numba2(xp, q, nx, L):\n",
      "    \"\"\" Weighting to grid (CIC)\n",
      "    \"\"\"\n",
      "    rho = np.zeros(nx)\n",
      "    # Scale from [0,L] to [0,nx]\n",
      "    xps   = xp*nx/L\n",
      "    left  = np.floor(xps).astype(np.int)\n",
      "    right = np.mod(np.ceil(xps), nx).astype(np.int)\n",
      "    for i in xrange(len(xps)):\n",
      "        rho[left[i]]  += q[i]*(left[i]+1-xps[i])\n",
      "        rho[right[i]] += q[i]*(xps[i]-left[i])\n",
      "        \n",
      "    return rho"
     ],
     "language": "python",
     "metadata": {},
     "outputs": [],
     "prompt_number": 3
    },
    {
     "cell_type": "code",
     "collapsed": false,
     "input": [
      "N  = 10**6\n",
      "nx = N/2\n",
      "L = 10.\n",
      "xp = np.linspace(0, L, N+1)[:-1]\n",
      "q  = np.linspace(1, 2, N)"
     ],
     "language": "python",
     "metadata": {},
     "outputs": [],
     "prompt_number": 4
    },
    {
     "cell_type": "code",
     "collapsed": false,
     "input": [
      "%timeit weight_cic(xp, q, nx, L)"
     ],
     "language": "python",
     "metadata": {},
     "outputs": [
      {
       "output_type": "stream",
       "stream": "stdout",
       "text": [
        "1 loops, best of 3: 7.31 s per loop\n"
       ]
      }
     ],
     "prompt_number": 5
    },
    {
     "cell_type": "code",
     "collapsed": false,
     "input": [
      "%timeit weight_cic_numba1(xp, q, nx, L)"
     ],
     "language": "python",
     "metadata": {},
     "outputs": [
      {
       "output_type": "stream",
       "stream": "stdout",
       "text": [
        "1 loops, best of 3: 72.3 ms per loop\n"
       ]
      }
     ],
     "prompt_number": 6
    },
    {
     "cell_type": "code",
     "collapsed": false,
     "input": [
      "%timeit weight_cic_numba2(xp, q, nx, L)"
     ],
     "language": "python",
     "metadata": {},
     "outputs": [
      {
       "output_type": "stream",
       "stream": "stdout",
       "text": [
        "1 loops, best of 3: 72.4 ms per loop\n"
       ]
      }
     ],
     "prompt_number": 7
    },
    {
     "cell_type": "code",
     "collapsed": false,
     "input": [],
     "language": "python",
     "metadata": {},
     "outputs": [],
     "prompt_number": 7
    }
   ],
   "metadata": {}
  }
 ]
}