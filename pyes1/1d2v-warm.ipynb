{
 "metadata": {
  "name": "",
  "signature": "sha256:4ebf1270fbf0dbeb031b79609a030d006e98ce37eb496aa2bff7b1831a1e1aab"
 },
 "nbformat": 3,
 "nbformat_minor": 0,
 "worksheets": [
  {
   "cells": [
    {
     "cell_type": "code",
     "collapsed": false,
     "input": [
      "%matplotlib inline\n",
      "%load_ext autoreload\n",
      "%autoreload 2"
     ],
     "language": "python",
     "metadata": {},
     "outputs": [],
     "prompt_number": 1
    },
    {
     "cell_type": "code",
     "collapsed": false,
     "input": [
      "import numpy as np\n",
      "from scipy.stats import norm\n",
      "from pic1d2v import *\n",
      "import matplotlib.pyplot as plt\n",
      "from matplotlib import animation\n",
      "from collections import namedtuple\n",
      "pi  = np.pi\n",
      "pis = np.sqrt(np.pi)\n",
      "np.random.seed(9997)"
     ],
     "language": "python",
     "metadata": {},
     "outputs": [],
     "prompt_number": 2
    },
    {
     "cell_type": "code",
     "collapsed": false,
     "input": [
      "KT = .01\n",
      "m  = 1.\n",
      "A  = .02\n",
      "k  = 1\n",
      "\n",
      "nt = 50\n",
      "nx = 256\n",
      "L  = 2*np.pi\n",
      "dx = L/nx\n",
      "dt = 0.1\n",
      "B0 = 0\n",
      "q = .1\n",
      "\n",
      "N_e = 1024\n",
      "n0 = N_e/L\n",
      "x0e = np.linspace(0., L, N_e+1)[:-1]\n",
      "x0e = x0e + A*np.cos(x0e*k*2*pi/L)\n",
      "normalize(x0e, L)\n",
      "\n",
      "ld  = np.sqrt(KT/(n0*q**2))\n",
      "wp  = np.sqrt(n0*q**2/m)\n",
      "vth = np.sqrt(2*KT/m)\n",
      "wpe = np.sqrt(wp**2 + 3*KT*k**2/m)\n",
      "wpi = -pis*wp*(wp/(k*vth))**3*np.exp(-(wp/(k*vth))**2)*np.exp(-3./2.)\n",
      "\n",
      "scale = np.sqrt(KT/m)\n",
      "vx0 = norm.rvs(size=N_e, scale=scale)\n",
      "\n",
      "print np.sum(vx0)/len(vx0)\n",
      "vx0 -= np.sum(vx0)/len(vx0)\n",
      "electron = Species(q, m, N_e, x0e,\n",
      "                   vx0, np.zeros(N_e))\n",
      "\n",
      "species = [electron]\n",
      "colors  = ['b', 'r']\n",
      "\n",
      "xp, vx, vy, E, phi, rho = pic(species, nx, dx, nt, dt, L, B0, \n",
      "                              solver_method=\"FFT\",\n",
      "                              weight_method=\"CIC\",\n",
      "                              interp_method=\"CIC\")\n",
      "\n",
      "print L/ld, n0*ld, k*ld, wpi"
     ],
     "language": "python",
     "metadata": {},
     "outputs": [
      {
       "output_type": "stream",
       "stream": "stdout",
       "text": [
        "-0.00323282578139\n",
        "80.2121047882 12.7661529728 0.0783321335822 -1.51471266851e-33\n"
       ]
      }
     ],
     "prompt_number": 3
    },
    {
     "cell_type": "code",
     "collapsed": false,
     "input": [
      "plt.plot((x0e-np.linspace(0., L, N_e+1)[:-1])[:-10])"
     ],
     "language": "python",
     "metadata": {},
     "outputs": [
      {
       "metadata": {},
       "output_type": "pyout",
       "prompt_number": 4,
       "text": [
        "[<matplotlib.lines.Line2D at 0x7f2ab2757b50>]"
       ]
      },
      {
       "metadata": {},
       "output_type": "display_data",
       "png": "[encoded data removed]",
       "text": [
        "<matplotlib.figure.Figure at 0x7f2a9743ac90>"
       ]
      }
     ],
     "prompt_number": 4
    },
    {
     "cell_type": "code",
     "collapsed": false,
     "input": [
      "v_vals = np.linspace(-2, 2, 100)\n",
      "expected = np.sqrt(m/(2*np.pi*KT))*np.exp(-m*v_vals**2/(KT*2))\n",
      "if False:\n",
      "    _ = plt.figure(figsize=(10, 4))\n",
      "    plt.subplot(1,2,1)\n",
      "    plt.plot(v_vals, expected)\n",
      "    plt.hist(vx0, bins=20, normed=True);\n",
      "    plt.subplot(1,2,2)\n",
      "    plt.plot(v_vals, expected)\n",
      "    plt.hist(vx[10,:], bins=20, normed=True);"
     ],
     "language": "python",
     "metadata": {},
     "outputs": [],
     "prompt_number": 5
    },
    {
     "cell_type": "code",
     "collapsed": false,
     "input": [
      "rk = np.fft.rfft(rho, axis=1)[:, k]\n",
      "rk = np.real(rk*rk.conj())\n",
      "plt.plot(rk/np.max(rk)*2-1)\n",
      "t_vals = np.linspace(0, nt*dt, nt)\n",
      "plt.plot(np.cos(wpe*t_vals*2))\n",
      "plt.plot(np.cos(wpe*t_vals*2)*np.exp(wpi*t_vals), 'g--')"
     ],
     "language": "python",
     "metadata": {},
     "outputs": [
      {
       "metadata": {},
       "output_type": "pyout",
       "prompt_number": 6,
       "text": [
        "[<matplotlib.lines.Line2D at 0x7f2ab2764510>]"
       ]
      },
      {
       "metadata": {},
       "output_type": "display_data",
       "png": "[encoded data removed]",
       "text": [
        "<matplotlib.figure.Figure at 0x7f2ab2764490>"
       ]
      }
     ],
     "prompt_number": 6
    },
    {
     "cell_type": "code",
     "collapsed": false,
     "input": [
      "if False:\n",
      "    fig = plt.figure()\n",
      "    p1 = fig.add_subplot(1, 1, 1)\n",
      "    imgs = []   \n",
      "    s = 1\n",
      "    x_vals = np.linspace(0,L,nx+1)[:-1]\n",
      "    for i in range(nt+1):\n",
      "        rhok = np.fft.rfft(rho[i,:])\n",
      "        rhok[0] = 0.\n",
      "        rhok = np.real(rhok*rhok.conj())\n",
      "        imgs.append((p1.scatter(xp[i,:], vx[i,:], color='b', s=s),\n",
      "                     #p1.plot(x_vals, rho[i,:], color='b')[0],\n",
      "                     #p1.plot(rhok, color='b')[0],\n",
      "                    ))\n",
      "\n",
      "\n",
      "    im_ani = animation.ArtistAnimation(fig, imgs, \n",
      "                                       interval=50, repeat_delay=3000,\n",
      "                                       blit=True)\n",
      "    im_ani.save(\"1d2v-warm.mp4\", writer=\"mencoder\")"
     ],
     "language": "python",
     "metadata": {},
     "outputs": [],
     "prompt_number": 7
    },
    {
     "cell_type": "code",
     "collapsed": false,
     "input": [],
     "language": "python",
     "metadata": {},
     "outputs": [],
     "prompt_number": 7
    }
   ],
   "metadata": {}
  }
 ]
}