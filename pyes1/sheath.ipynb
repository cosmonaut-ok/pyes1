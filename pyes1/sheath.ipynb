{
 "metadata": {
  "name": "",
  "signature": "sha256:140c6326d42a63e92ed210d77c8f616939171a53e12b1cd35e8b9fded85d62e7"
 },
 "nbformat": 3,
 "nbformat_minor": 0,
 "worksheets": [
  {
   "cells": [
    {
     "cell_type": "code",
     "collapsed": false,
     "input": [
      "%matplotlib inline\n",
      "%load_ext autoreload\n",
      "%autoreload 2"
     ],
     "language": "python",
     "metadata": {},
     "outputs": [],
     "prompt_number": 1
    },
    {
     "cell_type": "code",
     "collapsed": false,
     "input": [
      "import numpy as np\n",
      "from scipy.stats import norm\n",
      "from picsheath import *\n",
      "import matplotlib.pyplot as plt\n",
      "from matplotlib import animation\n",
      "from collections import namedtuple"
     ],
     "language": "python",
     "metadata": {},
     "outputs": [],
     "prompt_number": 2
    },
    {
     "cell_type": "code",
     "collapsed": false,
     "input": [
      "nt = 40000\n",
      "n_pairs = 4\n",
      "nx = 128\n",
      "L  = np.pi\n",
      "dx = L/(nx-1)\n",
      "L_source = L/5.0\n",
      "dt = 0.01\n",
      "B0 = 0\n",
      "me = 1.\n",
      "mi = 10.\n",
      "KT = 1.0\n",
      "\n",
      "N_e = nx*80\n",
      "N_i = N_e\n",
      "n0e = np.linspace(0., L, N_e+1)[:-1]\n",
      "n0i = np.linspace(0., L, N_i+1)[:-1]\n",
      "\n",
      "sample_e = lambda size: norm.rvs(size=size, scale=np.sqrt(KT/me)) \n",
      "sample_i = lambda size: norm.rvs(size=size, scale=np.sqrt(KT/mi))\n",
      "vx0i = sample_i(N_i)\n",
      "vx0e = sample_e(N_e)\n",
      "\n",
      "q = .01\n",
      "electron = Species(-q, me, N_e, n0e,\n",
      "                   vx0e, np.zeros(N_e),\n",
      "                   sample_e, sample_e)\n",
      "ion      = Species(q, mi, N_i, n0i,\n",
      "                    vx0i, np.zeros(N_i),\n",
      "                    sample_i, sample_i)\n",
      "\n",
      "results = pic(electron, ion, nx, dx, nt, dt, L, B0,\n",
      "              ['sig', 'N'],\n",
      "              n_pairs=n_pairs, L_source=L_source)\n",
      "\n",
      "#el  = results['el']\n",
      "phi = results['phi']\n",
      "sig = results['sig_all']\n",
      "Na  = results['N_all']\n",
      "\n",
      "x_vals = np.arange(nx)*dx\n",
      "t_vals = np.arange(nt+1)*dt"
     ],
     "language": "python",
     "metadata": {},
     "outputs": [],
     "prompt_number": 3
    },
    {
     "cell_type": "code",
     "collapsed": false,
     "input": [
      "n0 = N_e/L\n",
      "ld = np.sqrt(KT/(n0*q**2)/2)\n",
      "map(lambda x:round(x,3), [ld, dx, ld/dx, N_e/ld])"
     ],
     "language": "python",
     "metadata": {},
     "outputs": [
      {
       "metadata": {},
       "output_type": "pyout",
       "prompt_number": 4,
       "text": [
        "[1.239, 0.025, 50.068, 8267.801]"
       ]
      }
     ],
     "prompt_number": 4
    },
    {
     "cell_type": "code",
     "collapsed": false,
     "input": [
      "plt.plot(t_vals, sig)"
     ],
     "language": "python",
     "metadata": {},
     "outputs": [
      {
       "metadata": {},
       "output_type": "pyout",
       "prompt_number": 5,
       "text": [
        "[<matplotlib.lines.Line2D at 0x7fdf1447dd90>]"
       ]
      },
      {
       "metadata": {},
       "output_type": "display_data",
       "png": "[encoded data removed]",
       "text": [
        "<matplotlib.figure.Figure at 0x7fdf18128090>"
       ]
      }
     ],
     "prompt_number": 5
    },
    {
     "cell_type": "code",
     "collapsed": false,
     "input": [
      "if False:\n",
      "    fig = plt.figure()\n",
      "    p1 = fig.add_subplot(1, 1, 1)\n",
      "    \n",
      "    imgs = []   \n",
      "    s = 1\n",
      "    x_vals = np.linspace(0,L,nx+1)[:-1]\n",
      "    for i in range(1000, nt+1,100):\n",
      "        is_e = el[i]\n",
      "        is_i = np.logical_not(el[i])\n",
      "        imgs.append((#plt.scatter(xp[i,is_i][:Na[i]], vx[i,is_i][:Na[i]], color='b', s=s),\n",
      "                     #plt.scatter(xp[i,is_e][:Na[i]], vx[i,is_e][:Na[i]], color='r', s=s),\n",
      "                     p1.plot(x_vals, phi[i], color='b')[0],\n",
      "                     #p1.plot(rhok, color='b')[0],\n",
      "                     #plt.plot(weight(xp[i],vx[i],nx,L),'b')[0],\n",
      "                    ))\n",
      "\n",
      "\n",
      "    im_ani = animation.ArtistAnimation(fig, imgs, \n",
      "                                       interval=50, repeat_delay=3000,\n",
      "                                       blit=True)\n",
      "    im_ani.save(\"sheath.mp4\", writer=\"mencoder\")"
     ],
     "language": "python",
     "metadata": {},
     "outputs": [],
     "prompt_number": 6
    },
    {
     "cell_type": "code",
     "collapsed": false,
     "input": [
      "plt.plot(x_vals, q*phi/KT)"
     ],
     "language": "python",
     "metadata": {},
     "outputs": [
      {
       "metadata": {},
       "output_type": "pyout",
       "prompt_number": 7,
       "text": [
        "[<matplotlib.lines.Line2D at 0x7fdf143f2250>]"
       ]
      },
      {
       "metadata": {},
       "output_type": "display_data",
       "png": "[encoded data removed]",
       "text": [
        "<matplotlib.figure.Figure at 0x7fdf144ca950>"
       ]
      }
     ],
     "prompt_number": 7
    },
    {
     "cell_type": "code",
     "collapsed": false,
     "input": [
      "plt.plot(Na)\n",
      "#ne = [np.sum(el[i][:Na[i]]) for i in range(len(el))]\n",
      "#ni = [Na[i]-ne[i] for i in range(len(el))]\n",
      "#plt.plot(t_vals, ni, label='Ions')\n",
      "#plt.plot(t_vals, ne, label='Electrons')\n",
      "#plt.legend(loc='upper right')"
     ],
     "language": "python",
     "metadata": {},
     "outputs": [
      {
       "metadata": {},
       "output_type": "pyout",
       "prompt_number": 8,
       "text": [
        "[<matplotlib.lines.Line2D at 0x7fdf142b4210>]"
       ]
      },
      {
       "metadata": {},
       "output_type": "display_data",
       "png": "[encoded data removed]",
       "text": [
        "<matplotlib.figure.Figure at 0x7fdf143cb050>"
       ]
      }
     ],
     "prompt_number": 8
    },
    {
     "cell_type": "code",
     "collapsed": false,
     "input": [
      "if False:\n",
      "    i = -1\n",
      "    s = 1\n",
      "    is_e = el[i]\n",
      "    is_i = np.logical_not(el[i])\n",
      "    plt.scatter(xp[i,is_i][:Na[i]], vx[i,is_i][:Na[i]], color='b', s=s)\n",
      "    plt.scatter(xp[i,is_e][:Na[i]], vx[i,is_e][:Na[i]], color='r', s=s)"
     ],
     "language": "python",
     "metadata": {},
     "outputs": [],
     "prompt_number": 9
    },
    {
     "cell_type": "code",
     "collapsed": false,
     "input": [],
     "language": "python",
     "metadata": {},
     "outputs": [],
     "prompt_number": 9
    }
   ],
   "metadata": {}
  }
 ]
}