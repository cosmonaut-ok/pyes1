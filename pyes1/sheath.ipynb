{
 "metadata": {
  "name": "",
  "signature": "sha256:2993d83d3c8d04576c8dbf9ec7620d8ce72086acb23bb01bae129d3b08a3390b"
 },
 "nbformat": 3,
 "nbformat_minor": 0,
 "worksheets": [
  {
   "cells": [
    {
     "cell_type": "code",
     "collapsed": false,
     "input": [
      "%matplotlib inline\n",
      "%load_ext autoreload\n",
      "%autoreload 2"
     ],
     "language": "python",
     "metadata": {},
     "outputs": [],
     "prompt_number": 1
    },
    {
     "cell_type": "code",
     "collapsed": false,
     "input": [
      "import numpy as np\n",
      "from scipy.stats import norm\n",
      "from picsheath import *\n",
      "import matplotlib.pyplot as plt\n",
      "from matplotlib import animation\n",
      "from collections import namedtuple"
     ],
     "language": "python",
     "metadata": {},
     "outputs": [],
     "prompt_number": 2
    },
    {
     "cell_type": "code",
     "collapsed": false,
     "input": [
      "nt = 200\n",
      "nx = 512\n",
      "L  = 2*np.pi\n",
      "dx = L/(nx-1)\n",
      "dt = 0.1\n",
      "B0 = 0\n",
      "me = 5.\n",
      "mi = 10.\n",
      "\n",
      "N_e = 2**8\n",
      "N_i = N_e\n",
      "n0e = np.linspace(0., L, N_e+1)[:-1]\n",
      "n0i = np.linspace(0., L, N_i+1)[:-1]\n",
      "\n",
      "vx0i = norm.rvs(size=N_i, scale=1./mi)\n",
      "vx0e = norm.rvs(size=N_e, scale=1./me)\n",
      "\n",
      "q = .3\n",
      "electron = Species(-q, me, N_e, n0e,\n",
      "                   vx0e, np.zeros(N_e))\n",
      "ion      = Species(q, mi, N_i, n0i,\n",
      "                    vx0i, np.zeros(N_i))\n",
      "species = [electron, ion]\n",
      "colors  = ['b', 'r']\n",
      "\n",
      "xp, vx, vy, E, phi, rho, sig = pic(species, nx, dx, nt, dt, L, B0)"
     ],
     "language": "python",
     "metadata": {},
     "outputs": [],
     "prompt_number": 3
    },
    {
     "cell_type": "code",
     "collapsed": false,
     "input": [
      "plt.plot(sig)"
     ],
     "language": "python",
     "metadata": {},
     "outputs": [
      {
       "metadata": {},
       "output_type": "pyout",
       "prompt_number": 4,
       "text": [
        "[<matplotlib.lines.Line2D at 0x7f30820a6410>]"
       ]
      },
      {
       "metadata": {},
       "output_type": "display_data",
       "png": "[encoded data removed]",
       "text": [
        "<matplotlib.figure.Figure at 0x7f30a42f2710>"
       ]
      }
     ]
    },
    {
     "cell_type": "code",
     "collapsed": false,
     "input": [
      "if True:\n",
      "    fig = plt.figure()\n",
      "    p1 = fig.add_subplot(1, 1, 1)\n",
      "    imgs = []   \n",
      "    s = 1\n",
      "    x_vals = np.linspace(0,L,nx+1)[:-1]\n",
      "    for i in range(0, nt+1):\n",
      "        rhok = np.fft.rfft(rho[i,:])\n",
      "        rhok[0] = 0.\n",
      "        rhok = np.real(rhok*rhok.conj())\n",
      "        imgs.append((p1.scatter(xp[i,N_e:], vx[i,N_e:], color='b', s=s),\n",
      "                     p1.scatter(xp[i,:N_e], vx[i,:N_e], color='r', s=s),\n",
      "                     #p1.plot(E[i,5:-5], color='b')[0],\n",
      "                     #p1.plot(rhok, color='b')[0],\n",
      "                     #plt.plot(weight(xp[i],vx[i],nx,L),'b')[0],\n",
      "                    ))\n",
      "\n",
      "\n",
      "    im_ani = animation.ArtistAnimation(fig, imgs, \n",
      "                                       interval=50, repeat_delay=3000,\n",
      "                                       blit=True)\n",
      "    im_ani.save(\"sheath.mp4\", writer=\"mencoder\")"
     ],
     "language": "python",
     "metadata": {},
     "outputs": []
    },
    {
     "cell_type": "code",
     "collapsed": false,
     "input": [],
     "language": "python",
     "metadata": {},
     "outputs": []
    }
   ],
   "metadata": {}
  }
 ]
}