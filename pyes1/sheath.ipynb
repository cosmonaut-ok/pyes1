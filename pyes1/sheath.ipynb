{
 "metadata": {
  "name": "",
  "signature": "sha256:00fbf3467f0c0a3f4022c69cb71633e194758a250e91fe2fbd71f5c9ca820ea1"
 },
 "nbformat": 3,
 "nbformat_minor": 0,
 "worksheets": [
  {
   "cells": [
    {
     "cell_type": "code",
     "collapsed": false,
     "input": [
      "%matplotlib inline\n",
      "%load_ext autoreload\n",
      "%autoreload 2"
     ],
     "language": "python",
     "metadata": {},
     "outputs": [],
     "prompt_number": 1
    },
    {
     "cell_type": "code",
     "collapsed": false,
     "input": [
      "import numpy as np\n",
      "from scipy.stats import norm\n",
      "from picsheath import *\n",
      "import matplotlib.pyplot as plt\n",
      "from matplotlib import animation\n",
      "from collections import namedtuple"
     ],
     "language": "python",
     "metadata": {},
     "outputs": [],
     "prompt_number": 2
    },
    {
     "cell_type": "code",
     "collapsed": false,
     "input": [
      "# Choose parameters based on debye length\n",
      "\n",
      "# Particle temperatures\n",
      "KT  = 1.0\n",
      "# Number of particles\n",
      "N_e = 40000\n",
      "# Number of cells spanned by a debye length\n",
      "ld_cell = 100.0\n",
      "nx = 2048\n",
      "# Number of particle pairs injected per time step\n",
      "n_pairs = 2\n",
      "nt = 20000\n",
      "L  = np.pi\n",
      "L_source = L/2.0\n",
      "\n",
      "dx = L/(nx-1)\n",
      "dt = 0.01\n",
      "B0 = 0\n",
      "me = 1.\n",
      "mi = 1836.\n",
      "\n",
      "n0  = N_e/L\n",
      "ld  = dx*ld_cell\n",
      "q   = np.sqrt(KT/(2*n0*ld**2))\n",
      "N_i = N_e"
     ],
     "language": "python",
     "metadata": {},
     "outputs": [],
     "prompt_number": 3
    },
    {
     "cell_type": "code",
     "collapsed": false,
     "input": [
      "n0 = N_e/L\n",
      "ld = np.sqrt(KT/(n0*q**2)/2.0)\n",
      "print \"Debye Length: \", round(ld, 3)\n",
      "print \"dx:           \", round(dx, 4)\n",
      "print \"N cells/ld:   \", round(ld/dx, 3)\n",
      "print \"N_e/ld:       \", round(N_e/(L/ld))\n",
      "print \"q:            \", round(q, 4)\n",
      "print \"N:            \", N_e+N_i\n",
      "print \"N inject:     \", nt*n_pairs*2"
     ],
     "language": "python",
     "metadata": {},
     "outputs": [
      {
       "output_type": "stream",
       "stream": "stdout",
       "text": [
        "Debye Length:  0.153\n",
        "dx:            0.0015\n",
        "N cells/ld:    100.0\n",
        "N_e/ld:        1954.0\n",
        "q:             0.0408\n",
        "N:             80000\n",
        "N inject:      80000\n"
       ]
      }
     ],
     "prompt_number": 4
    },
    {
     "cell_type": "code",
     "collapsed": false,
     "input": [
      "n0e = np.linspace(0., L, N_e+1)[:-1]\n",
      "n0i = np.linspace(0., L, N_i+1)[:-1]\n",
      "\n",
      "sample_e = lambda size: norm.rvs(size=size, scale=np.sqrt(KT/me)) \n",
      "sample_i = lambda size: norm.rvs(size=size, scale=np.sqrt(KT/mi))\n",
      "vx0i = sample_i(N_i)\n",
      "vx0e = sample_e(N_e)\n",
      "\n",
      "electron = Species(-q, me, N_e, n0e,\n",
      "                   vx0e, np.zeros(N_e),\n",
      "                   sample_e, sample_e)\n",
      "ion      = Species(q, mi, N_i, n0i,\n",
      "                    vx0i, np.zeros(N_i),\n",
      "                    sample_i, sample_i)\n",
      "\n",
      "results = pic(electron, ion, nx, dx, nt, dt, L, B0,\n",
      "              ['sig', 'N', 'phi_wall'],\n",
      "              n_pairs=n_pairs, L_source=L_source)\n",
      "\n",
      "#el  = results['el']\n",
      "phi      = results['phi']\n",
      "phi_wall = results['phi_wall']\n",
      "sig      = results['sig_all']\n",
      "Na       = results['N_all']\n",
      "nphi_wall = q*phi_wall/KT\n",
      "\n",
      "x_vals = np.arange(nx)*dx\n",
      "t_vals = np.arange(nt+1)*dt"
     ],
     "language": "python",
     "metadata": {},
     "outputs": [],
     "prompt_number": 5
    },
    {
     "cell_type": "code",
     "collapsed": false,
     "input": [
      "plt.plot(t_vals, sig)"
     ],
     "language": "python",
     "metadata": {},
     "outputs": [
      {
       "metadata": {},
       "output_type": "pyout",
       "prompt_number": 6,
       "text": [
        "[<matplotlib.lines.Line2D at 0x7ff44847e550>]"
       ]
      },
      {
       "metadata": {},
       "output_type": "display_data",
       "png": "[encoded data removed]",
       "text": [
        "<matplotlib.figure.Figure at 0x7ff439239810>"
       ]
      }
     ],
     "prompt_number": 6
    },
    {
     "cell_type": "code",
     "collapsed": false,
     "input": [
      "if False:\n",
      "    fig = plt.figure()\n",
      "    p1 = fig.add_subplot(1, 1, 1)\n",
      "    \n",
      "    imgs = []   \n",
      "    s = 1\n",
      "    x_vals = np.linspace(0,L,nx+1)[:-1]\n",
      "    for i in range(1000, nt+1,100):\n",
      "        is_e = el[i]\n",
      "        is_i = np.logical_not(el[i])\n",
      "        imgs.append((#plt.scatter(xp[i,is_i][:Na[i]], vx[i,is_i][:Na[i]], color='b', s=s),\n",
      "                     #plt.scatter(xp[i,is_e][:Na[i]], vx[i,is_e][:Na[i]], color='r', s=s),\n",
      "                     p1.plot(x_vals, phi[i], color='b')[0],\n",
      "                     #p1.plot(rhok, color='b')[0],\n",
      "                     #plt.plot(weight(xp[i],vx[i],nx,L),'b')[0],\n",
      "                    ))\n",
      "\n",
      "\n",
      "    im_ani = animation.ArtistAnimation(fig, imgs, \n",
      "                                       interval=50, repeat_delay=3000,\n",
      "                                       blit=True)\n",
      "    im_ani.save(\"sheath.mp4\", writer=\"mencoder\")"
     ],
     "language": "python",
     "metadata": {},
     "outputs": [],
     "prompt_number": 7
    },
    {
     "cell_type": "code",
     "collapsed": false,
     "input": [
      "plt.plot(x_vals, q*phi/KT)\n",
      "plt.axvline(L_source, color='g', linestyle='--')\n",
      "plt.axvline(L-ld, color='r', linestyle='--')\n",
      "plt.xlabel(\"x\")\n",
      "plt.ylabel(\"$e\\phi/KT$\")\n",
      "plt.savefig(\"sheath-profile.pdf\")"
     ],
     "language": "python",
     "metadata": {},
     "outputs": [
      {
       "metadata": {},
       "output_type": "display_data",
       "png": "[encoded data removed]",
       "text": [
        "<matplotlib.figure.Figure at 0x7ff448442690>"
       ]
      }
     ],
     "prompt_number": 8
    },
    {
     "cell_type": "code",
     "collapsed": false,
     "input": [
      "i = 1000\n",
      "avg_nphiw = np.mean(nphi_wall[-i:])\n",
      "plt.plot(nphi_wall[-i:])\n",
      "plt.axhline(avg_nphiw, color='g', linestyle='--')\n",
      "avg_nphiw"
     ],
     "language": "python",
     "metadata": {},
     "outputs": [
      {
       "metadata": {},
       "output_type": "pyout",
       "prompt_number": 9,
       "text": [
        "-1.6492605994514389"
       ]
      },
      {
       "metadata": {},
       "output_type": "display_data",
       "png": "[encoded data removed]",
       "text": [
        "<matplotlib.figure.Figure at 0x7ff448442b90>"
       ]
      }
     ],
     "prompt_number": 9
    },
    {
     "cell_type": "code",
     "collapsed": false,
     "input": [
      "plt.plot(Na)"
     ],
     "language": "python",
     "metadata": {},
     "outputs": [
      {
       "metadata": {},
       "output_type": "pyout",
       "prompt_number": 10,
       "text": [
        "[<matplotlib.lines.Line2D at 0x7ff4483dd990>]"
       ]
      },
      {
       "metadata": {},
       "output_type": "display_data",
       "png": "[encoded data removed]",
       "text": [
        "<matplotlib.figure.Figure at 0x7ff44847ee10>"
       ]
      }
     ],
     "prompt_number": 10
    },
    {
     "cell_type": "code",
     "collapsed": false,
     "input": [],
     "language": "python",
     "metadata": {},
     "outputs": [],
     "prompt_number": 10
    }
   ],
   "metadata": {}
  }
 ]
}