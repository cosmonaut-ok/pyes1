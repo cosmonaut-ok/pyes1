{
 "metadata": {
  "name": "",
  "signature": "sha256:d75513a8c315157ef5c7f937f37287b0e5a832632313d9b28027c2d72f871a45"
 },
 "nbformat": 3,
 "nbformat_minor": 0,
 "worksheets": [
  {
   "cells": [
    {
     "cell_type": "code",
     "collapsed": false,
     "input": [
      "%matplotlib inline\n",
      "%load_ext autoreload\n",
      "%autoreload 2"
     ],
     "language": "python",
     "metadata": {},
     "outputs": [],
     "prompt_number": 1
    },
    {
     "cell_type": "code",
     "collapsed": false,
     "input": [
      "import numpy as np\n",
      "import scipy as sp\n",
      "import scipy.special\n",
      "import scipy.optimize\n",
      "from scipy.special import erf, dawsn\n",
      "import matplotlib.pyplot as plt"
     ],
     "language": "python",
     "metadata": {},
     "outputs": [],
     "prompt_number": 2
    },
    {
     "cell_type": "markdown",
     "metadata": {},
     "source": [
      "## Zero width sheath"
     ]
    },
    {
     "cell_type": "code",
     "collapsed": false,
     "input": [
      "def D(x):\n",
      "    return dawsn(x)*np.exp(x**2)\n",
      "\n",
      "def f(x, Zt):\n",
      "    a = 2/np.sqrt(np.pi*Zt)\n",
      "    return 1.0-(a*np.exp(-(1.0+Zt)*x)*D(np.sqrt(x))+erf(np.sqrt(Zt*x)))\n",
      "\n",
      "def scaled_phiw(Z, t, Mm):\n",
      "    f1   = lambda x: f(x, Z*t)\n",
      "    psi1 = scipy.optimize.brentq(f1, 0, 1)\n",
      "    \n",
      "    a = np.sqrt(Mm*Z/(4*np.pi))\n",
      "    c = 2*np.exp(-psi1)*D(np.sqrt(psi1))\n",
      "\n",
      "    return -np.log(a*np.pi/(Z+1.0/t)/c)"
     ],
     "language": "python",
     "metadata": {},
     "outputs": [],
     "prompt_number": 3
    },
    {
     "cell_type": "code",
     "collapsed": false,
     "input": [
      "Z  = 1.0\n",
      "t  = 1.0\n",
      "Mm = 1836"
     ],
     "language": "python",
     "metadata": {},
     "outputs": [],
     "prompt_number": 4
    },
    {
     "cell_type": "code",
     "collapsed": false,
     "input": [
      "f1   = lambda x: f(x, Z*t)\n",
      "psi1 = scipy.optimize.brentq(f1, 0, 10)\n",
      "\n",
      "x_vals = np.linspace(np.max(0, psi1-.5), psi1+.5, 100)\n",
      "plt.plot(x_vals, f1(x_vals))\n",
      "plt.axvline(psi1, color='g', linestyle='--')\n",
      "\n",
      "psi1"
     ],
     "language": "python",
     "metadata": {},
     "outputs": [
      {
       "metadata": {},
       "output_type": "pyout",
       "prompt_number": 5,
       "text": [
        "0.40445332022153563"
       ]
      },
      {
       "metadata": {},
       "output_type": "display_data",
       "png": "[encoded data removed]",
       "text": [
        "<matplotlib.figure.Figure at 0x7fd1567ed8d0>"
       ]
      }
     ],
     "prompt_number": 5
    },
    {
     "cell_type": "code",
     "collapsed": false,
     "input": [
      "sphiw = scaled_phiw(Z, t, Mm)\n",
      "sphiw"
     ],
     "language": "python",
     "metadata": {},
     "outputs": [
      {
       "metadata": {},
       "output_type": "pyout",
       "prompt_number": 6,
       "text": [
        "-2.9653919639495916"
       ]
      }
     ],
     "prompt_number": 6
    },
    {
     "cell_type": "code",
     "collapsed": false,
     "input": [
      "t_vals = np.linspace(.1, 6, 10)\n",
      "plt.plot(1.0/t_vals, [-scaled_phiw(Z, tt, Mm) for tt in t_vals])\n",
      "plt.plot(1.0/t_vals, .5*np.log(np.sqrt(Mm*Z*t_vals)))"
     ],
     "language": "python",
     "metadata": {},
     "outputs": [
      {
       "metadata": {},
       "output_type": "pyout",
       "prompt_number": 7,
       "text": [
        "[<matplotlib.lines.Line2D at 0x7fd13f2a4090>]"
       ]
      },
      {
       "metadata": {},
       "output_type": "display_data",
       "png": "[encoded data removed]",
       "text": [
        "<matplotlib.figure.Figure at 0x7fd13a2253d0>"
       ]
      }
     ],
     "prompt_number": 7
    },
    {
     "cell_type": "code",
     "collapsed": false,
     "input": [
      "t_vals = np.linspace(.1, 10, 20)\n",
      "plt.semilogx(1.0/t_vals, [-scaled_phiw(Z, tt, Mm) for tt in t_vals])\n",
      "plt.ylabel(r\"$e\\phi_{w}/kT_{e}$\")\n",
      "plt.xlabel(r\"$T_i/T_e$\")\n",
      "plt.savefig(\"emmert-sheath-zerod-psiw.pdf\")"
     ],
     "language": "python",
     "metadata": {},
     "outputs": [
      {
       "metadata": {},
       "output_type": "display_data",
       "png": "[encoded data removed]",
       "text": [
        "<matplotlib.figure.Figure at 0x7fd13a265a90>"
       ]
      }
     ],
     "prompt_number": 8
    },
    {
     "cell_type": "markdown",
     "metadata": {},
     "source": [
      "## Finite Width Sheath"
     ]
    },
    {
     "cell_type": "code",
     "collapsed": false,
     "input": [],
     "language": "python",
     "metadata": {},
     "outputs": [],
     "prompt_number": 8
    }
   ],
   "metadata": {}
  }
 ]
}