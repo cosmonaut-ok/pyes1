{
 "metadata": {
  "name": "",
  "signature": "sha256:30a1e65df43099c120aae9eed6eeafdb1f80e11c0f966ac96d013437084bb6f1"
 },
 "nbformat": 3,
 "nbformat_minor": 0,
 "worksheets": [
  {
   "cells": [
    {
     "cell_type": "code",
     "collapsed": false,
     "input": [
      "%matplotlib inline\n",
      "%load_ext autoreload\n",
      "%autoreload 2"
     ],
     "language": "python",
     "metadata": {},
     "outputs": [],
     "prompt_number": 1
    },
    {
     "cell_type": "code",
     "collapsed": false,
     "input": [
      "import numpy as np\n",
      "from pic1d2v import *\n",
      "import matplotlib.pyplot as plt\n",
      "from matplotlib import animation\n",
      "from collections import namedtuple\n",
      "norm = lambda x: np.max(np.abs(x))"
     ],
     "language": "python",
     "metadata": {},
     "outputs": [],
     "prompt_number": 2
    },
    {
     "cell_type": "markdown",
     "metadata": {},
     "source": [
      "# Uniform distribution of particles"
     ]
    },
    {
     "cell_type": "code",
     "collapsed": false,
     "input": [
      "nt = 100\n",
      "nx = 512\n",
      "L  = 2*np.pi\n",
      "dx = L/nx\n",
      "dt = 0.5\n",
      "B0 = 0.5\n",
      "wc = -B0\n",
      "t_vals = np.linspace(0, nt*dt, nt+1)\n",
      "N_e = 10\n",
      "N_i = N_e\n",
      "\n",
      "init_pos = np.linspace(0, L, N_e+1)[:-1]\n",
      "\n",
      "electron = Species(-1., 1., N_e,\n",
      "                   init_pos,\n",
      "                   np.zeros(N_e), np.zeros(N_e))\n",
      "ion      = Species(1., -1., N_i,\n",
      "                   init_pos,\n",
      "                   np.zeros(N_i), np.zeros(N_i))\n",
      "\n",
      "species = [electron, ion]\n",
      "colors  = ['b']\n",
      "\n",
      "xp, vx, vy, E, phi, rho = pic(species, nx, dx, nt, dt, L, B0, \n",
      "                              solver_method=\"FFT\",\n",
      "                              weight_method=\"CIC\",\n",
      "                              interp_method=\"CIC\")"
     ],
     "language": "python",
     "metadata": {},
     "outputs": [],
     "prompt_number": 3
    },
    {
     "cell_type": "code",
     "collapsed": false,
     "input": [
      "fig = plt.figure()\n",
      "p1 = fig.add_subplot(1, 1, 1)\n",
      "p1.set_xlabel('x'); p1.set_ylabel('$v_x$')\n",
      "imgs = []   \n",
      "s = 1\n",
      "x_vals = np.linspace(0,L,nx+1)[:-1]\n",
      "for i in range(nt+1):\n",
      "    imgs.append((p1.scatter(xp[i,:N_e], vx[i,:N_e], color=colors[0]),\n",
      "                 p1.plot(x_vals, phi[i], color='g')[0],\n",
      "                ))\n",
      "\n",
      "\n",
      "im_ani = animation.ArtistAnimation(fig, imgs, \n",
      "                                   interval=50, repeat_delay=3000,\n",
      "                                   blit=True)\n",
      "im_ani.save(\"1d2v-unif.mp4\", writer=\"mencoder\")"
     ],
     "language": "python",
     "metadata": {},
     "outputs": [
      {
       "metadata": {},
       "output_type": "display_data",
       "png": "[encoded data removed]",
       "text": [
        "<matplotlib.figure.Figure at 0x7f948255a090>"
       ]
      }
     ],
     "prompt_number": 4
    },
    {
     "cell_type": "code",
     "collapsed": false,
     "input": [
      "plt.plot(vx[:,0])\n",
      "expected = np.outer(np.ones_like(vx[:,0]), vx[0,:])\n",
      "print norm(expected - vx)"
     ],
     "language": "python",
     "metadata": {},
     "outputs": [
      {
       "output_type": "stream",
       "stream": "stdout",
       "text": [
        "0.0\n"
       ]
      },
      {
       "metadata": {},
       "output_type": "display_data",
       "png": "[encoded data removed]",
       "text": [
        "<matplotlib.figure.Figure at 0x7f948251c750>"
       ]
      }
     ],
     "prompt_number": 5
    },
    {
     "cell_type": "code",
     "collapsed": false,
     "input": [],
     "language": "python",
     "metadata": {},
     "outputs": [],
     "prompt_number": 5
    }
   ],
   "metadata": {}
  }
 ]
}